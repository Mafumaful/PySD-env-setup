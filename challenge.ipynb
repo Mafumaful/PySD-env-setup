{
 "cells": [
  {
   "cell_type": "markdown",
   "metadata": {},
   "source": [
    "# model example\n",
    "## Model the susceptible, infected and recovered people during the pandemic."
   ]
  },
  {
   "cell_type": "code",
   "execution_count": null,
   "metadata": {},
   "outputs": [],
   "source": [
    "%matplotlib inline\n",
    "import pysd\n",
    "import pandas as pd\n",
    "import matplotlib as plt\n",
    "import geopandas\n",
    "\n",
    "total_population = 10000\n",
    "effective_contacts = 2\n",
    "beta = effective_contacts / total_population"
   ]
  },
  {
   "cell_type": "markdown",
   "metadata": {},
   "source": []
  },
  {
   "cell_type": "markdown",
   "metadata": {},
   "source": []
  }
 ],
 "metadata": {
  "kernelspec": {
   "display_name": "Python 3.10.4 ('SyDE600')",
   "language": "python",
   "name": "python3"
  },
  "language_info": {
   "name": "python",
   "version": "3.10.4"
  },
  "orig_nbformat": 4,
  "vscode": {
   "interpreter": {
    "hash": "091b99e246c051807d4acae35a9891084b90f58396cb0e121c9d8b03a8ef054e"
   }
  }
 },
 "nbformat": 4,
 "nbformat_minor": 2
}
